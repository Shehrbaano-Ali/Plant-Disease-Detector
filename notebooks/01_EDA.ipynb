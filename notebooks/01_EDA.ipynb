{
 "cells": [
  {
   "cell_type": "markdown",
   "id": "14c15190-8ca2-4f38-a808-147717f0f25a",
   "metadata": {},
   "source": [
    "## Step 1: Setup and Explore Available Classes"
   ]
  },
  {
   "cell_type": "code",
   "execution_count": 9,
   "id": "3c77c74e-f37d-4da7-8c3a-34d6b9a625bf",
   "metadata": {},
   "outputs": [
    {
     "name": "stdout",
     "output_type": "stream",
     "text": [
      "Total number of classes: 39\n",
      "Available classes in Raw folder: ['Apple___Apple_scab', 'Apple___Black_rot', 'Apple___Cedar_apple_rust', 'Apple___healthy', 'Background_without_leaves', 'Blueberry___healthy', 'Cherry___Powdery_mildew', 'Cherry___healthy', 'Corn___Cercospora_leaf_spot Gray_leaf_spot', 'Corn___Common_rust', 'Corn___Northern_Leaf_Blight', 'Corn___healthy', 'Grape___Black_rot', 'Grape___Esca_(Black_Measles)', 'Grape___Leaf_blight_(Isariopsis_Leaf_Spot)', 'Grape___healthy', 'Orange___Haunglongbing_(Citrus_greening)', 'Peach___Bacterial_spot', 'Peach___healthy', 'Pepper,_bell___Bacterial_spot', 'Pepper,_bell___healthy', 'Potato___Early_blight', 'Potato___Late_blight', 'Potato___healthy', 'Raspberry___healthy', 'Soybean___healthy', 'Squash___Powdery_mildew', 'Strawberry___Leaf_scorch', 'Strawberry___healthy', 'Tomato___Bacterial_spot', 'Tomato___Early_blight', 'Tomato___Late_blight', 'Tomato___Leaf_Mold', 'Tomato___Septoria_leaf_spot', 'Tomato___Spider_mites Two-spotted_spider_mite', 'Tomato___Target_Spot', 'Tomato___Tomato_Yellow_Leaf_Curl_Virus', 'Tomato___Tomato_mosaic_virus', 'Tomato___healthy']\n"
     ]
    }
   ],
   "source": [
    "# First, I’ll import some libraries I’ll need throughout this notebook\n",
    "import os\n",
    "from collections import Counter\n",
    "\n",
    "# I’ll also import some later-used visualization tools\n",
    "import matplotlib.pyplot as plt\n",
    "import seaborn as sns\n",
    "from PIL import Image\n",
    "\n",
    "# This is the raw folder that contains all unprocessed class folders\n",
    "raw_path = '../data/Raw/plant_leave_diseases_dataset_without_augmentation'\n",
    "\n",
    "# Let me list all the folders (each folder = 1 class)\n",
    "classes = sorted([\n",
    "    folder for folder in os.listdir(raw_path)\n",
    "    if os.path.isdir(os.path.join(raw_path, folder))\n",
    "])\n",
    "\n",
    "# I want to see how many classes are there and what are their names\n",
    "print(\"Total number of classes:\", len(classes))\n",
    "print(\"Available classes in Raw folder:\", classes)"
   ]
  },
  {
   "cell_type": "code",
   "execution_count": null,
   "id": "20c35470-7bd2-469b-a5be-9dcbbadd3e25",
   "metadata": {},
   "outputs": [],
   "source": []
  }
 ],
 "metadata": {
  "kernelspec": {
   "display_name": "Python (strongenv)",
   "language": "python",
   "name": "strongenv"
  },
  "language_info": {
   "codemirror_mode": {
    "name": "ipython",
    "version": 3
   },
   "file_extension": ".py",
   "mimetype": "text/x-python",
   "name": "python",
   "nbconvert_exporter": "python",
   "pygments_lexer": "ipython3",
   "version": "3.12.11"
  }
 },
 "nbformat": 4,
 "nbformat_minor": 5
}
