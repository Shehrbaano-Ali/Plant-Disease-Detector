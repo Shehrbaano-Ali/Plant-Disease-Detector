{
 "cells": [
  {
   "cell_type": "markdown",
   "id": "87786f30-6649-4986-8c42-5d09afb07a4b",
   "metadata": {},
   "source": [
    "## Step 1 — Basic Imports"
   ]
  },
  {
   "cell_type": "code",
   "execution_count": 1,
   "id": "031b6909-4809-4339-8afb-6158a5f3515c",
   "metadata": {},
   "outputs": [],
   "source": [
    "# I always start with the core ones I need\n",
    "import os\n",
    "import random\n",
    "import numpy as np\n",
    "import matplotlib.pyplot as plt\n",
    "import seaborn as sns\n",
    "\n",
    "# These make my plots look cleaner and more readable\n",
    "plt.style.use(\"seaborn-v0_8-whitegrid\")\n",
    "sns.set_palette(\"Set2\")"
   ]
  },
  {
   "cell_type": "markdown",
   "id": "66560638-aac2-4199-95da-cf6e5c8e5eec",
   "metadata": {},
   "source": [
    "## Step 2 — Explore the data directory"
   ]
  },
  {
   "cell_type": "code",
   "execution_count": null,
   "id": "9e675201-db03-433e-84ab-b112af166135",
   "metadata": {},
   "outputs": [],
   "source": []
  }
 ],
 "metadata": {
  "kernelspec": {
   "display_name": "Python (strongenv)",
   "language": "python",
   "name": "strongenv"
  },
  "language_info": {
   "codemirror_mode": {
    "name": "ipython",
    "version": 3
   },
   "file_extension": ".py",
   "mimetype": "text/x-python",
   "name": "python",
   "nbconvert_exporter": "python",
   "pygments_lexer": "ipython3",
   "version": "3.12.11"
  }
 },
 "nbformat": 4,
 "nbformat_minor": 5
}
