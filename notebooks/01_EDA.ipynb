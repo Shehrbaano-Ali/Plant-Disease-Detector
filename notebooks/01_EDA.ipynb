{
 "cells": [
  {
   "cell_type": "markdown",
   "id": "209e6637-42ff-43f5-906d-bfa628e263d4",
   "metadata": {},
   "source": [
    "\n",
    "## Step 1: Setup and Data Overview"
   ]
  },
  {
   "cell_type": "code",
   "execution_count": 13,
   "id": "8fa71202-ca10-47c9-8a53-c753b667f8e3",
   "metadata": {},
   "outputs": [
    {
     "name": "stdout",
     "output_type": "stream",
     "text": [
      "Total number of categories: 39\n",
      "Class names: ['Apple___Apple_scab', 'Apple___Black_rot', 'Apple___Cedar_apple_rust', 'Apple___healthy', 'Background_without_leaves', 'Blueberry___healthy', 'Cherry___Powdery_mildew', 'Cherry___healthy', 'Corn___Cercospora_leaf_spot Gray_leaf_spot', 'Corn___Common_rust', 'Corn___Northern_Leaf_Blight', 'Corn___healthy', 'Grape___Black_rot', 'Grape___Esca_(Black_Measles)', 'Grape___Leaf_blight_(Isariopsis_Leaf_Spot)', 'Grape___healthy', 'Orange___Haunglongbing_(Citrus_greening)', 'Peach___Bacterial_spot', 'Peach___healthy', 'Pepper,_bell___Bacterial_spot', 'Pepper,_bell___healthy', 'Potato___Early_blight', 'Potato___Late_blight', 'Potato___healthy', 'Raspberry___healthy', 'Soybean___healthy', 'Squash___Powdery_mildew', 'Strawberry___Leaf_scorch', 'Strawberry___healthy', 'Tomato___Bacterial_spot', 'Tomato___Early_blight', 'Tomato___Late_blight', 'Tomato___Leaf_Mold', 'Tomato___Septoria_leaf_spot', 'Tomato___Spider_mites Two-spotted_spider_mite', 'Tomato___Target_Spot', 'Tomato___Tomato_Yellow_Leaf_Curl_Virus', 'Tomato___Tomato_mosaic_virus', 'Tomato___healthy']\n"
     ]
    }
   ],
   "source": [
    "# Standard libraries\n",
    "import os\n",
    "from collections import Counter\n",
    "import matplotlib.pyplot as plt\n",
    "import seaborn as sns\n",
    "from PIL import Image\n",
    "\n",
    "# Dataset path\n",
    "DATA_PATH = '../data/raw/Plant_leave_diseases_dataset_without_augmentation' \n",
    "\n",
    "# Getting all category folders (each representing a class)\n",
    "categories = sorted([\n",
    "    folder for folder in os.listdir(DATA_PATH)\n",
    "    if os.path.isdir(os.path.join(DATA_PATH, folder))\n",
    "])\n",
    "\n",
    "# Class information\n",
    "print(f\"Total number of categories: {len(categories)}\")\n",
    "print(\"Class names:\", categories)"
   ]
  },
  {
   "cell_type": "markdown",
   "id": "0d52ca1a-43c3-4b4b-ac84-06c4b3f047ab",
   "metadata": {},
   "source": [
    "## Step 2: Count Images per Class"
   ]
  },
  {
   "cell_type": "code",
   "execution_count": 15,
   "id": "eddeddde-37b6-4950-9131-eab93acab66f",
   "metadata": {},
   "outputs": [
    {
     "name": "stdout",
     "output_type": "stream",
     "text": [
      "Sample image counts (top 5):\n",
      "Orange___Haunglongbing_(Citrus_greening): 5507 images\n",
      "Tomato___Tomato_Yellow_Leaf_Curl_Virus: 5357 images\n",
      "Soybean___healthy: 5090 images\n",
      "Peach___Bacterial_spot: 2297 images\n",
      "Tomato___Bacterial_spot: 2127 images\n"
     ]
    }
   ],
   "source": [
    "# Counting how many images are present in each class\n",
    "image_counts = {}\n",
    "\n",
    "for category in categories:\n",
    "    category_path = os.path.join(DATA_PATH, category)\n",
    "    image_files = os.listdir(category_path)\n",
    "    image_counts[category] = len(image_files)\n",
    "\n",
    "# Sorting the dictionary to see which classes have the most or least images\n",
    "sorted_counts = dict(sorted(image_counts.items(), key=lambda item: item[1], reverse=True))\n",
    "\n",
    "# Just printing top 5 classes to verify the output\n",
    "print(\"Sample image counts (top 5):\")\n",
    "for k, v in list(sorted_counts.items())[:5]:\n",
    "    print(f\"{k}: {v} images\")"
   ]
  },
  {
   "cell_type": "code",
   "execution_count": null,
   "id": "46d556be-b31b-4899-8f64-50c7683b7f1f",
   "metadata": {},
   "outputs": [],
   "source": []
  }
 ],
 "metadata": {
  "kernelspec": {
   "display_name": "Python 3 (ipykernel)",
   "language": "python",
   "name": "python3"
  },
  "language_info": {
   "codemirror_mode": {
    "name": "ipython",
    "version": 3
   },
   "file_extension": ".py",
   "mimetype": "text/x-python",
   "name": "python",
   "nbconvert_exporter": "python",
   "pygments_lexer": "ipython3",
   "version": "3.12.3"
  }
 },
 "nbformat": 4,
 "nbformat_minor": 5
}
