{
 "cells": [
  {
   "cell_type": "markdown",
   "id": "a777e73c-c041-4c3c-8925-4196447dff8b",
   "metadata": {},
   "source": [
    "## Step 1 – Set Up and Load Image Paths"
   ]
  },
  {
   "cell_type": "code",
   "execution_count": 6,
   "id": "a57df38d-bb3b-494d-b915-9f8070617e0b",
   "metadata": {},
   "outputs": [
    {
     "name": "stdout",
     "output_type": "stream",
     "text": [
      "Found categories: ['Plant_leave_diseases_dataset_without_augmentation']\n"
     ]
    }
   ],
   "source": [
    "import os\n",
    "import shutil\n",
    "import random\n",
    "import numpy as np\n",
    "from PIL import Image\n",
    "from sklearn.model_selection import train_test_split\n",
    "\n",
    "# Define the paths\n",
    "RAW_DATA_PATH = \"../data/raw\"  # The folder where my original data is\n",
    "CLEANED_DATA_PATH = \"../data/processed\"  # Where I'll save resized/clean images\n",
    "\n",
    "# Just checking which categories I have\n",
    "categories = sorted(os.listdir(RAW_DATA_PATH))\n",
    "print(\"Found categories:\", categories)"
   ]
  },
  {
   "cell_type": "code",
   "execution_count": 8,
   "id": "210f1878-8e34-4ca8-81fe-9a90b47a7caf",
   "metadata": {},
   "outputs": [],
   "source": [
    "RAW_DATA_PATH = \"../data/raw/Plant_leave_diseases_dataset_without_augmentation\""
   ]
  },
  {
   "cell_type": "code",
   "execution_count": 9,
   "id": "9ea807d8-aaa5-4c62-806e-cdb0cfa5fd08",
   "metadata": {},
   "outputs": [
    {
     "name": "stdout",
     "output_type": "stream",
     "text": [
      "Found categories: ['Apple___Apple_scab', 'Apple___Black_rot', 'Apple___Cedar_apple_rust', 'Apple___healthy', 'Background_without_leaves', 'Blueberry___healthy', 'Cherry___Powdery_mildew', 'Cherry___healthy', 'Corn___Cercospora_leaf_spot Gray_leaf_spot', 'Corn___Common_rust', 'Corn___Northern_Leaf_Blight', 'Corn___healthy', 'Grape___Black_rot', 'Grape___Esca_(Black_Measles)', 'Grape___Leaf_blight_(Isariopsis_Leaf_Spot)', 'Grape___healthy', 'Orange___Haunglongbing_(Citrus_greening)', 'Peach___Bacterial_spot', 'Peach___healthy', 'Pepper,_bell___Bacterial_spot', 'Pepper,_bell___healthy', 'Potato___Early_blight', 'Potato___Late_blight', 'Potato___healthy', 'Raspberry___healthy', 'Soybean___healthy', 'Squash___Powdery_mildew', 'Strawberry___Leaf_scorch', 'Strawberry___healthy', 'Tomato___Bacterial_spot', 'Tomato___Early_blight', 'Tomato___Late_blight', 'Tomato___Leaf_Mold', 'Tomato___Septoria_leaf_spot', 'Tomato___Spider_mites Two-spotted_spider_mite', 'Tomato___Target_Spot', 'Tomato___Tomato_Yellow_Leaf_Curl_Virus', 'Tomato___Tomato_mosaic_virus', 'Tomato___healthy']\n",
      "Total classes: 39\n"
     ]
    }
   ],
   "source": [
    "categories = sorted(os.listdir(RAW_DATA_PATH))\n",
    "print(\"Found categories:\", categories)\n",
    "print(\"Total classes:\", len(categories))"
   ]
  },
  {
   "cell_type": "markdown",
   "id": "91fe76fd-95f0-4f41-b217-cc317ac9c44f",
   "metadata": {},
   "source": [
    "## Step 2 – Resize & Copy All Images to Clean Folder"
   ]
  },
  {
   "cell_type": "code",
   "execution_count": null,
   "id": "2a9816ab-f4f1-4d30-804e-3a2f8477b07b",
   "metadata": {},
   "outputs": [],
   "source": [
    "import os\n",
    "import shutil\n",
    "from PIL import Image\n",
    "\n",
    "# Step 2: Resize and copy images to data/processed/\n",
    "\n",
    "# Define where to save cleaned images\n",
    "CLEANED_DATA_PATH = \"../data/processed\"\n",
    "IMG_SIZE = (224, 224)\n",
    "\n",
    "# 1. Clear any existing processed folder (start fresh)\n",
    "if os.path.exists(CLEANED_DATA_PATH):\n",
    "    shutil.rmtree(CLEANED_DATA_PATH)\n",
    "os.makedirs(CLEANED_DATA_PATH)\n",
    "\n",
    "# 2. Go inside each category and resize images\n",
    "for category in categories:\n",
    "    input_folder = os.path.join(RAW_DATA_PATH, category)\n",
    "    output_folder = os.path.join(CLEANED_DATA_PATH, category)\n",
    "    os.makedirs(output_folder, exist_ok=True)\n",
    "\n",
    "    for img_file in os.listdir(input_folder):\n",
    "        img_path = os.path.join(input_folder, img_file)\n",
    "\n",
    "        try:\n",
    "            # Load the image and resize it\n",
    "            img = Image.open(img_path).convert(\"RGB\")\n",
    "            img = img.resize(IMG_SIZE)\n",
    "\n",
    "            # Save it into the cleaned path\n",
    "            save_path = os.path.join(output_folder, img_file)\n",
    "            img.save(save_path)\n",
    "\n",
    "        except Exception as e:\n",
    "            print(f\"Error processing {img_path}: {e}\")\n"
   ]
  },
  {
   "cell_type": "code",
   "execution_count": null,
   "id": "b6c4dd63-8e2b-4703-9f6b-6aeaf3d5c6b5",
   "metadata": {},
   "outputs": [],
   "source": []
  }
 ],
 "metadata": {
  "kernelspec": {
   "display_name": "Python (plantenv)",
   "language": "python",
   "name": "plantenv"
  },
  "language_info": {
   "codemirror_mode": {
    "name": "ipython",
    "version": 3
   },
   "file_extension": ".py",
   "mimetype": "text/x-python",
   "name": "python",
   "nbconvert_exporter": "python",
   "pygments_lexer": "ipython3",
   "version": "3.12.3"
  }
 },
 "nbformat": 4,
 "nbformat_minor": 5
}
