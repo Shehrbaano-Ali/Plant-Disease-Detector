{
 "cells": [
  {
   "cell_type": "code",
   "execution_count": null,
   "id": "4433b6af-a3bc-493d-868d-400866178c9d",
   "metadata": {},
   "outputs": [],
   "source": []
  }
 ],
 "metadata": {
  "kernelspec": {
   "display_name": "Python (plantenv)",
   "language": "python",
   "name": "plantenv"
  },
  "language_info": {
   "codemirror_mode": {
    "name": "ipython",
    "version": 3
   },
   "file_extension": ".py",
   "mimetype": "text/x-python",
   "name": "python",
   "nbconvert_exporter": "python",
   "pygments_lexer": "ipython3",
   "version": "3.12.3"
  }
 },
 "nbformat": 4,
 "nbformat_minor": 5
}
